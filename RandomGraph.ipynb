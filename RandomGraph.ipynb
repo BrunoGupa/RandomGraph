{
 "cells": [
  {
   "cell_type": "markdown",
   "metadata": {},
   "source": [
    "# Random_Graph"
   ]
  },
  {
   "cell_type": "markdown",
   "metadata": {},
   "source": [
    "The class below is based on https://www.python-course.eu/graphs_python.php \n",
    "The second part of the code was made by Bruno Gutierrez-DeLaPaz"
   ]
  },
  {
   "cell_type": "code",
   "execution_count": 2,
   "metadata": {},
   "outputs": [],
   "source": [
    "class Graph(object):\n",
    "    def __init__(self, graph_dict = None):\n",
    "        if graph_dict is None:\n",
    "            graph_dict = {}\n",
    "        self.graph_dict = graph_dict\n",
    "    \n",
    "\n",
    "    def vertices(self):\n",
    "        return list(self.graph_dict.keys())\n",
    "    \n",
    "    def edges(self):\n",
    "        return self.__generate_edges()\n",
    "    \n",
    "    def add_vertex(self, vertex):\n",
    "        if vertex not in self.graph_dict:\n",
    "            self.graph_dict[vertex] = []\n",
    "    \n",
    "    def add_edge(self, edge):\n",
    "        edge = set(edge)\n",
    "        (vertex1, vertex2) = tuple(edge)\n",
    "        if vertex1 in self.graph_dict:\n",
    "            if vertex2 not in self.graph_dict[vertex1]:\n",
    "                # avoid multiple edges\n",
    "                self.graph_dict[vertex1].append(vertex2)\n",
    "            if vertex2 in self.graph_dict:\n",
    "                self.graph_dict[vertex2].append(vertex1)\n",
    "            else:\n",
    "                self.graph_dict[vertex2] = [vertex1]\n",
    "        else: \n",
    "            self.graph_dict[vertex1] = [vertex2]\n",
    "            if vertex2 in self.graph_dict:\n",
    "                self.graph_dict[vertex2].append(vertex1)\n",
    "            else:\n",
    "                self.graph_dict[vertex2] = [vertex1]\n",
    "        \n",
    "    def __generate_edges(self):\n",
    "        edges = []\n",
    "        for vertex in self.graph_dict:\n",
    "            for neighbour in self.graph_dict[vertex]:\n",
    "                if {neighbour, vertex} not in edges:\n",
    "                    edges.append({vertex, neighbour})\n",
    "        return edges\n",
    "    \n",
    "    def __str__(self):\n",
    "        res = \"vertices: \"\n",
    "        for k in sef.graph_dict:\n",
    "            res += str(k) + \" \"\n",
    "        res += \"\\nedges: \"\n",
    "        for edges in self.__generate_edges():\n",
    "            res += str(edge) + \" \"\n",
    "        return res \n",
    "\n",
    "\n",
    "\n"
   ]
  },
  {
   "cell_type": "code",
   "execution_count": 3,
   "metadata": {},
   "outputs": [],
   "source": [
    "import random\n",
    "import itertools as it\n",
    "from itertools import combinations\n",
    "\n",
    "def Random_graph(num_vertex = int, num_edges = int):\n",
    "    # vertex and edges are two natural numbers\n",
    "    graph = Graph()\n",
    "    #\n",
    "    if (num_edges > (num_vertex * (num_vertex-1))/2) or (num_vertex < 1) or (num_edges < 0):\n",
    "        return print('Insert valid num_vertex > 0 and 0 <= num_edges <= 1/2 *(num_vertex(num_vertex-1)')\n",
    "\n",
    "    vertex = list(range(0,num_vertex))\n",
    "    for k in vertex:\n",
    "        graph.add_vertex(str(k))\n",
    "    \n",
    "    full_edges = list(it.combinations(vertex,2))\n",
    "    selected_edges = random.sample(full_edges, num_edges)\n",
    "    for (u,v) in selected_edges:\n",
    "        graph.add_edge({str(u),str(v)})\n",
    "    return graph\n",
    "\n",
    "\n"
   ]
  },
  {
   "cell_type": "markdown",
   "metadata": {},
   "source": [
    "## Create a Random Graph"
   ]
  },
  {
   "cell_type": "code",
   "execution_count": 4,
   "metadata": {},
   "outputs": [
    {
     "output_type": "execute_result",
     "data": {
      "text/plain": "{'0': ['3', '5', '6', '2'],\n '1': ['6', '5', '3', '2'],\n '2': ['6', '5', '0', '1'],\n '3': ['0', '1', '5', '6', '4'],\n '4': ['5', '6', '3'],\n '5': ['4', '2', '0', '1', '3'],\n '6': ['1', '2', '0', '4', '3']}"
     },
     "metadata": {},
     "execution_count": 4
    }
   ],
   "source": [
    "graph = Random_graph(7, 15)\n",
    "graph.graph_dict"
   ]
  },
  {
   "cell_type": "code",
   "execution_count": 5,
   "metadata": {},
   "outputs": [
    {
     "output_type": "execute_result",
     "data": {
      "text/plain": "['0', '1', '2', '3', '4', '5', '6']"
     },
     "metadata": {},
     "execution_count": 5
    }
   ],
   "source": [
    "graph.vertices()"
   ]
  },
  {
   "cell_type": "code",
   "execution_count": 6,
   "metadata": {},
   "outputs": [
    {
     "output_type": "execute_result",
     "data": {
      "text/plain": "[{'0', '3'},\n {'0', '5'},\n {'0', '6'},\n {'0', '2'},\n {'1', '6'},\n {'1', '5'},\n {'1', '3'},\n {'1', '2'},\n {'2', '6'},\n {'2', '5'},\n {'3', '5'},\n {'3', '6'},\n {'3', '4'},\n {'4', '5'},\n {'4', '6'}]"
     },
     "metadata": {},
     "execution_count": 6
    }
   ],
   "source": [
    "graph.edges()"
   ]
  },
  {
   "cell_type": "code",
   "execution_count": null,
   "metadata": {},
   "outputs": [],
   "source": []
  }
 ],
 "metadata": {
  "language_info": {
   "codemirror_mode": {
    "name": "ipython",
    "version": 2
   },
   "file_extension": ".py",
   "mimetype": "text/x-python",
   "name": "python",
   "nbconvert_exporter": "python",
   "pygments_lexer": "ipython2",
   "version": "3.7.7-final"
  },
  "orig_nbformat": 2,
  "kernelspec": {
   "name": "python37764bitpytorchenvconda871555cf05a649bcbe938c6eeed2d7c5",
   "display_name": "Python 3.7.7 64-bit ('PytorchEnv': conda)"
  }
 },
 "nbformat": 4,
 "nbformat_minor": 2
}